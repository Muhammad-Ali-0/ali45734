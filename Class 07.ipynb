{
 "cells": [
  {
   "cell_type": "markdown",
   "id": "e326d434",
   "metadata": {},
   "source": [
    "# Functions"
   ]
  },
  {
   "cell_type": "markdown",
   "id": "fea223ef",
   "metadata": {},
   "source": [
    "# kisi bhi coding different places pe repeat karna"
   ]
  },
  {
   "cell_type": "code",
   "execution_count": 2,
   "id": "2dd300c4",
   "metadata": {},
   "outputs": [],
   "source": [
    "#definition\n",
    "#call\n",
    "#result\n",
    "\n",
    "#define\n",
    "def nameUpper() : \n",
    "    username = input(\"Please call your Good Name!\")\n",
    "    username = username.upper()\n",
    "    print(username)"
   ]
  },
  {
   "cell_type": "code",
   "execution_count": 3,
   "id": "b15c7eb3",
   "metadata": {},
   "outputs": [
    {
     "name": "stdout",
     "output_type": "stream",
     "text": [
      "Please call your Good Name!ali\n",
      "ALI\n"
     ]
    }
   ],
   "source": [
    "#call\n",
    "nameUpper()"
   ]
  },
  {
   "cell_type": "code",
   "execution_count": 4,
   "id": "949dcf09",
   "metadata": {},
   "outputs": [],
   "source": [
    "def calcSquare():#parameterless function\n",
    "    a = 10\n",
    "    sq = a*a\n",
    "    print(sq)"
   ]
  },
  {
   "cell_type": "code",
   "execution_count": 5,
   "id": "0132f6bb",
   "metadata": {},
   "outputs": [
    {
     "name": "stdout",
     "output_type": "stream",
     "text": [
      "100\n"
     ]
    }
   ],
   "source": [
    "calcSquare()"
   ]
  },
  {
   "cell_type": "code",
   "execution_count": 6,
   "id": "4d0889c3",
   "metadata": {},
   "outputs": [],
   "source": [
    "#parameters\n",
    "#argument\n",
    "def Square(val):#parameterized function\n",
    "    sq = val**2\n",
    "    print(sq)"
   ]
  },
  {
   "cell_type": "code",
   "execution_count": 7,
   "id": "8dc6f955",
   "metadata": {},
   "outputs": [
    {
     "name": "stdout",
     "output_type": "stream",
     "text": [
      "6177.959999999999\n"
     ]
    }
   ],
   "source": [
    "Square(78.6)#arguments"
   ]
  },
  {
   "cell_type": "code",
   "execution_count": 8,
   "id": "adcfaf4f",
   "metadata": {},
   "outputs": [],
   "source": [
    "def square(val):\n",
    "    sq = val**2\n",
    "    print(sq)\n"
   ]
  },
  {
   "cell_type": "code",
   "execution_count": 9,
   "id": "ed5d933f",
   "metadata": {},
   "outputs": [
    {
     "ename": "TypeError",
     "evalue": "unsupported operand type(s) for ** or pow(): 'str' and 'int'",
     "output_type": "error",
     "traceback": [
      "\u001b[1;31m---------------------------------------------------------------------------\u001b[0m",
      "\u001b[1;31mTypeError\u001b[0m                                 Traceback (most recent call last)",
      "Input \u001b[1;32mIn [9]\u001b[0m, in \u001b[0;36m<cell line: 2>\u001b[1;34m()\u001b[0m\n\u001b[0;32m      1\u001b[0m \u001b[38;5;66;03m#Arguments is valid but the \u001b[39;00m\n\u001b[1;32m----> 2\u001b[0m \u001b[43msquare\u001b[49m\u001b[43m(\u001b[49m\u001b[38;5;124;43m\"\u001b[39;49m\u001b[38;5;124;43mHello\u001b[39;49m\u001b[38;5;124;43m\"\u001b[39;49m\u001b[43m)\u001b[49m\n",
      "Input \u001b[1;32mIn [8]\u001b[0m, in \u001b[0;36msquare\u001b[1;34m(val)\u001b[0m\n\u001b[0;32m      1\u001b[0m \u001b[38;5;28;01mdef\u001b[39;00m \u001b[38;5;21msquare\u001b[39m(val):\n\u001b[1;32m----> 2\u001b[0m     sq \u001b[38;5;241m=\u001b[39m \u001b[43mval\u001b[49m\u001b[38;5;241;43m*\u001b[39;49m\u001b[38;5;241;43m*\u001b[39;49m\u001b[38;5;241;43m2\u001b[39;49m\n\u001b[0;32m      3\u001b[0m     \u001b[38;5;28mprint\u001b[39m(sq)\n",
      "\u001b[1;31mTypeError\u001b[0m: unsupported operand type(s) for ** or pow(): 'str' and 'int'"
     ]
    }
   ],
   "source": [
    "#Arguments is valid but the \n",
    "square(\"Hello\")"
   ]
  },
  {
   "cell_type": "markdown",
   "id": "bdae7f6a",
   "metadata": {},
   "source": [
    "# How to get Result/Value Back from function"
   ]
  },
  {
   "cell_type": "markdown",
   "id": "f8b0252f",
   "metadata": {},
   "source": [
    "### if we want to recover the value from function"
   ]
  },
  {
   "cell_type": "code",
   "execution_count": null,
   "id": "df40f7f3",
   "metadata": {},
   "outputs": [],
   "source": []
  },
  {
   "cell_type": "code",
   "execution_count": null,
   "id": "503a9f0f",
   "metadata": {},
   "outputs": [],
   "source": [
    "def calcsquare(val):\n",
    "    global sq\n",
    "    sq = val**2\n"
   ]
  },
  {
   "cell_type": "code",
   "execution_count": null,
   "id": "3793bfd0",
   "metadata": {},
   "outputs": [],
   "source": [
    "calcsquare(100)\n",
    "print(sq)"
   ]
  },
  {
   "cell_type": "code",
   "execution_count": null,
   "id": "7b10874f",
   "metadata": {},
   "outputs": [],
   "source": [
    "print(sq)"
   ]
  },
  {
   "cell_type": "code",
   "execution_count": null,
   "id": "a981918c",
   "metadata": {},
   "outputs": [],
   "source": [
    "def areaoftriangle(l,h):\n",
    "    area = l*h*0.5\n",
    "    return area,l,h "
   ]
  },
  {
   "cell_type": "code",
   "execution_count": null,
   "id": "c3c52588",
   "metadata": {},
   "outputs": [],
   "source": [
    "area,l,h = areaoftriangle(5,6)"
   ]
  },
  {
   "cell_type": "code",
   "execution_count": null,
   "id": "f7f10214",
   "metadata": {},
   "outputs": [],
   "source": [
    "print(f\"The area of triangle with length {l} and height {h} is area {area}\")"
   ]
  },
  {
   "cell_type": "code",
   "execution_count": null,
   "id": "62458a6c",
   "metadata": {},
   "outputs": [],
   "source": [
    "def trig(sin,cos):\n",
    "    tan = sin/cos\n",
    "    return tan,sin,cos"
   ]
  },
  {
   "cell_type": "code",
   "execution_count": null,
   "id": "9a09a81d",
   "metadata": {},
   "outputs": [],
   "source": [
    "tan,sin,cos = trig(220,219)"
   ]
  },
  {
   "cell_type": "code",
   "execution_count": null,
   "id": "a93c7262",
   "metadata": {},
   "outputs": [],
   "source": [
    "print(f\"The ratio of sin {sin} to the cos {cos} is tan {tan}\")"
   ]
  },
  {
   "cell_type": "code",
   "execution_count": null,
   "id": "ba956f80",
   "metadata": {},
   "outputs": [],
   "source": [
    "def force(m,a):\n",
    "    f = m*a    \n",
    "    return f\n",
    "        \n",
    "    "
   ]
  },
  {
   "cell_type": "code",
   "execution_count": null,
   "id": "6cf20461",
   "metadata": {},
   "outputs": [],
   "source": [
    "f = force(100,156)"
   ]
  },
  {
   "cell_type": "code",
   "execution_count": null,
   "id": "d6fb8ef2",
   "metadata": {},
   "outputs": [],
   "source": [
    "if f => 100 :\n",
    "    print(f\"the force {f} is enough to pull this cart\")\n",
    "    else:\n",
    "        print(f\"the force {f} is not enough to pull this cart\")\n",
    "    print(f)\n",
    "        "
   ]
  },
  {
   "cell_type": "code",
   "execution_count": null,
   "id": "07c5aa86",
   "metadata": {},
   "outputs": [],
   "source": [
    "areaoftriangle(h=23,l=89)"
   ]
  },
  {
   "cell_type": "markdown",
   "id": "7685752c",
   "metadata": {},
   "source": [
    "# Default Parameter"
   ]
  },
  {
   "cell_type": "code",
   "execution_count": null,
   "id": "fbf2642d",
   "metadata": {},
   "outputs": [],
   "source": [
    "print(\"Pakistan\")"
   ]
  },
  {
   "cell_type": "code",
   "execution_count": null,
   "id": "05e3ed0d",
   "metadata": {},
   "outputs": [],
   "source": [
    "def salarycalculator(basic,allounces, bonus = 0):\n",
    "    gross = basic + allounces + bonus\n",
    "    return gross\n",
    "    \n"
   ]
  },
  {
   "cell_type": "code",
   "execution_count": null,
   "id": "6ecb28b2",
   "metadata": {},
   "outputs": [],
   "source": [
    "salarycalculator(5000,12000,10000)"
   ]
  },
  {
   "cell_type": "code",
   "execution_count": null,
   "id": "4bc51bf2",
   "metadata": {},
   "outputs": [],
   "source": [
    "salarycalculator(12000,56333)"
   ]
  },
  {
   "cell_type": "code",
   "execution_count": null,
   "id": "ada288f1",
   "metadata": {},
   "outputs": [],
   "source": []
  }
 ],
 "metadata": {
  "kernelspec": {
   "display_name": "Python 3 (ipykernel)",
   "language": "python",
   "name": "python3"
  },
  "language_info": {
   "codemirror_mode": {
    "name": "ipython",
    "version": 3
   },
   "file_extension": ".py",
   "mimetype": "text/x-python",
   "name": "python",
   "nbconvert_exporter": "python",
   "pygments_lexer": "ipython3",
   "version": "3.9.12"
  }
 },
 "nbformat": 4,
 "nbformat_minor": 5
}
